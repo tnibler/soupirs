{
  "metadata": {
    "kernelspec": {
      "name": "python",
      "display_name": "Python (Pyodide)",
      "language": "python"
    },
    "language_info": {
      "codemirror_mode": {
        "name": "python",
        "version": 3
      },
      "file_extension": ".py",
      "mimetype": "text/x-python",
      "name": "python",
      "nbconvert_exporter": "python",
      "pygments_lexer": "ipython3",
      "version": "3.8"
    }
  },
  "nbformat_minor": 4,
  "nbformat": 4,
  "cells": [
    {
      "cell_type": "code",
      "source": "%pip install openpyxl nbformat plotly widgetsnbextension~=4.0.10 ipywidgets==8.1.2",
      "metadata": {
        "editable": true,
        "slideshow": {
          "slide_type": ""
        },
        "tags": [],
        "trusted": true
      },
      "outputs": [],
      "execution_count": null
    },
    {
      "cell_type": "code",
      "source": "import numpy as np\nfrom scipy.integrate import cumulative_trapezoid\nfrom scipy.signal import find_peaks\nfrom scipy import signal\nimport plotly.express as px\nimport plotly.graph_objects as go\nfrom dash import Dash, dcc, html, Input, Output, callback\nimport pandas as pd\nimport matplotlib.pyplot as plt\nfrom pathlib import Path\nfrom ipywidgets import widgets\nfrom dataclasses import dataclass\nfrom typing import TextIO\nimport io\nimport re",
      "metadata": {
        "slideshow": {
          "slide_type": ""
        },
        "tags": [],
        "trusted": true
      },
      "outputs": [],
      "execution_count": null
    },
    {
      "cell_type": "code",
      "source": "def load_dataframe(file: bytes, debug=False):\n    df_raw = pd.read_csv(io.BytesIO(file), delimiter='\\t', names=['t', 'flow', 'fo2', 'fco2'])\n    first_non_zero_flow_row = 0\n    flow_thresh = 0.2\n    flow_almost_zero = df_raw[df_raw['flow'].abs() > flow_thresh]\n    if len(flow_almost_zero) > 0:\n        # start a couple of samples before flow takes >0 values\n        flow_almost_zero_cutoff = max(0, flow_almost_zero.index[0] - 300) \n        if flow_almost_zero_cutoff > 0:\n            if debug: print(f'Dropping first {flow_almost_zero_cutoff} rows with flow<{flow_thresh}')\n            df_raw.drop(range(flow_almost_zero_cutoff), inplace=True)\n    df_raw.reset_index(inplace=True, drop=True)\n    df_raw['t'] = df_raw['t'] - df_raw.loc[0, 't']\n\n    sampling_freq_hz = 1 / (df_raw['t'][:-1] - df_raw['t'].shift(1)[1:]).mean()\n    filter_freq_hz = 3.15*1e-2\n    df_raw['instant_vol_raw'] = cumulative_trapezoid(y=df_raw['flow'], x=df_raw['t'], initial=0) \n    sos = signal.butter(4, Wn=filter_freq_hz / sampling_freq_hz, btype='highpass', output='sos')\n    flow_filtered = signal.sosfilt(sos, df_raw['flow'])\n    df_raw['instant_vol'] = cumulative_trapezoid(y=flow_filtered, x=df_raw['t'], initial=0) \n    if debug: print(f'Sum over all instantaneous volume: {df_raw.instant_vol.sum()}')\n\n    return df_raw\n",
      "metadata": {
        "trusted": true,
        "tags": [],
        "editable": true,
        "slideshow": {
          "slide_type": ""
        }
      },
      "outputs": [],
      "execution_count": null
    },
    {
      "cell_type": "code",
      "source": "def on_analyze_clicked(file: bytes, output, image_config={'scale': 1}, debug=False):\n    global df_raw\n    df_raw = load_dataframe(file, debug)\n    df_raw['ts'] = pd.to_datetime(df_raw['t'], unit='s')\n    fig = px.line(df_raw, y=['instant_vol', 'flow'], x='ts', height=500)\n    names={'flow': 'Flow', 'instant_vol': 'Vol. Instant.'}\n    fig.for_each_trace(lambda t: t.update(name = names[t.name],\n                                      legendgroup = names[t.name]\n                                         )\n                  )\n    config = {\n        'toImageButtonOptions': {\n            'format': 'png', # one of png, svg, jpeg, webp\n            #'filename': 'custom_image',\n            **image_config\n        }\n    }\n    fig.show(config=config)",
      "metadata": {
        "trusted": true
      },
      "outputs": [],
      "execution_count": null
    },
    {
      "cell_type": "code",
      "source": "select_display = widgets.Output()\nplot_display = widgets.Output()\nselect = None\nwidth_input = None\nheight_input = None\nscale_input = None\nfile = None\ndef f():\n    global file\n    if not select:\n        return\n    file = select.value\n    plot_display.clear_output()\n    with plot_display:\n        image_config = { 'scale': scale_input.value }\n        if width_input.value != 0: image_config['width'] = width_input.value\n        if height_input.value != 0: image_config['height'] = height_input.value\n        on_analyze_clicked(select.value, plot_display, image_config=image_config)\n\ndef on_upload_changed(inputs):\n    global select\n    global width_input\n    global height_input\n    global scale_input\n    with select_display:\n        select_display.clear_output()\n        files = [f for f in inputs['new'] if f.name.endswith('raw.log')]\n        select = widgets.Select(options=[(str(f.name), f.content) for f in files])\n        button = widgets.Button(description='Analyze')\n        button.on_click(lambda button: f())\n        display(select)\n        display(widgets.Label(value=\"Screenshot settings:\"))\n        style = {'description_width': 'initial'}\n        width_input = widgets.IntText(value=0, description='width (0 = default)', style=style)\n        height_input = widgets.IntText(value=0, description='height (0 = default)', style=style)\n        scale_input = widgets.FloatText(value=1, description='scale')\n        display(width_input, height_input, scale_input)\n        display(button)\n\nupload = widgets.FileUpload(\n    multiple=True\n)\n\nupload.observe(on_upload_changed, names='value')",
      "metadata": {
        "slideshow": {
          "slide_type": ""
        },
        "tags": [],
        "trusted": true
      },
      "outputs": [],
      "execution_count": null
    },
    {
      "cell_type": "code",
      "source": "upload",
      "metadata": {
        "editable": false,
        "slideshow": {
          "slide_type": ""
        },
        "tags": [],
        "trusted": true
      },
      "outputs": [],
      "execution_count": null
    },
    {
      "cell_type": "code",
      "source": "display(select_display)\ndisplay(plot_display)",
      "metadata": {
        "editable": false,
        "slideshow": {
          "slide_type": ""
        },
        "tags": [],
        "trusted": true
      },
      "outputs": [],
      "execution_count": null
    }
  ]
}