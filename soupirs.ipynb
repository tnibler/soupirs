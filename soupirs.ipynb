{
 "cells": [
  {
   "cell_type": "code",
   "execution_count": 64,
   "metadata": {},
   "outputs": [],
   "source": [
    "import numpy as np\n",
    "from scipy.integrate import cumulative_trapezoid\n",
    "from scipy.signal import find_peaks\n",
    "from scipy import signal\n",
    "import plotly.express as px\n",
    "import pandas as pd\n",
    "import matplotlib.pyplot as plt\n",
    "from pathlib import Path"
   ]
  },
  {
   "cell_type": "code",
   "execution_count": 65,
   "metadata": {},
   "outputs": [],
   "source": [
    "import plotly.io as pio\n",
    "pio.renderers.default = 'notebook_connected'"
   ]
  },
  {
   "cell_type": "code",
   "execution_count": 66,
   "metadata": {},
   "outputs": [],
   "source": [
    "# Todo update this logic for files with name as prefix\n",
    "data_dir = Path('./data/CPET hosp')\n",
    "# data_dir = Path('./data/CPET ambu anonyme')\n",
    "files = []\n",
    "for xls in data_dir.glob('*.xlsx'):\n",
    "    prefix = xls.name.split('_')[0]\n",
    "    log_match = list(data_dir.glob(f'{prefix}*raw.log'))\n",
    "    if len(log_match) == 0:\n",
    "        print(f'No matching raw log for Excel file {xls}')\n",
    "    elif len(log_match) > 1:\n",
    "        print(f'More then 1 matching raw log for Excel file {xls}?')\n",
    "    else:\n",
    "        files.append((xls, log_match[0]))"
   ]
  },
  {
   "cell_type": "code",
   "execution_count": 67,
   "metadata": {},
   "outputs": [],
   "source": [
    "xls, raw_log = files[5]\n",
    "\n",
    "df_cycles = pd.read_excel(xls)\n",
    "assert df_cycles['Unnamed: 0'][1] == 'Unité'\n",
    "assert df_cycles['Unnamed: 0'][2] == 'Théor.'\n",
    "# df_cycles = df_cycles.drop('Unnamed: 0', axis=1)\n",
    "df_cycles = df_cycles.drop('Temps', axis=1)\n",
    "df_cycles = df_cycles.drop([0, 1, 2])\n",
    "keep_columns = {'Unnamed: 0', 'Vol.Cour.', 'VIn', 'tIn', 'VEx', 'tEx', 'ttot'}\n",
    "df_cycles = df_cycles.drop([col for col in df_cycles.columns if col not in keep_columns], axis=1)\n",
    "df_cycles = df_cycles.rename(columns={\n",
    "    'Unnamed: 0': 'phase',\n",
    "    'Vol.Cour.': 'vol_instant',\n",
    "    'VIn': 'vol_in',\n",
    "    'VEx': 'vol_ex',\n",
    "    'tIn': 't_in',\n",
    "    'tEx': 't_ex',\n",
    "    'ttot': 'duration'\n",
    "})\n",
    "df_cycles['phase'] = df_cycles['phase'].replace('Repos', 'rest')\n",
    "df_cycles['phase'] = df_cycles['phase'].replace('Charge', 'load')\n",
    "df_cycles['phase'] = df_cycles['phase'].replace('Récupération', 'recovery')\n",
    "df_cycles['phase'] = df_cycles['phase'].ffill()\n",
    "\n",
    "# drop rows with missing/'-' values at the end\n",
    "df_cycles = df_cycles.drop(df_cycles[df_cycles['vol_ex'] == '-'].index)\n",
    "float_cols = ['vol_instant', 'vol_in', 't_in', 'vol_ex', 't_ex', 'duration']\n",
    "for col in float_cols:\n",
    "    df_cycles[col] = df_cycles[col].astype(float)\n",
    "df_cycles = df_cycles.reset_index(drop=True)"
   ]
  },
  {
   "cell_type": "code",
   "execution_count": 68,
   "metadata": {},
   "outputs": [
    {
     "data": {
      "text/plain": [
       "(PosixPath('data/CPET hosp/240417_22_10_2020_9_38_ramp-test_excelrawdata.xlsx'),\n",
       " PosixPath('data/CPET hosp/240417_22_10_2020_9_38_ramp-test_raw.log'))"
      ]
     },
     "execution_count": 68,
     "metadata": {},
     "output_type": "execute_result"
    }
   ],
   "source": [
    "xls, raw_log"
   ]
  },
  {
   "cell_type": "code",
   "execution_count": null,
   "metadata": {},
   "outputs": [],
   "source": [
    "df_cycles"
   ]
  },
  {
   "cell_type": "code",
   "execution_count": null,
   "metadata": {},
   "outputs": [],
   "source": [
    "df_raw = pd.read_csv(raw_log, delimiter='\\t', names=['t', 'flow', 'fo2', 'fco2'])\n",
    "df_raw"
   ]
  },
  {
   "cell_type": "code",
   "execution_count": 71,
   "metadata": {},
   "outputs": [],
   "source": [
    "sampling_freq = 1 / (df_raw['t'][:-1] - df_raw['t'].shift(1)[1:]).mean()\n",
    "demean_window_seconds = 20"
   ]
  },
  {
   "cell_type": "code",
   "execution_count": 72,
   "metadata": {},
   "outputs": [
    {
     "data": {
      "text/plain": [
       "2500.0"
      ]
     },
     "execution_count": 72,
     "metadata": {},
     "output_type": "execute_result"
    }
   ],
   "source": [
    "demean_window_seconds * sampling_freq"
   ]
  },
  {
   "cell_type": "code",
   "execution_count": 73,
   "metadata": {},
   "outputs": [
    {
     "data": {
      "text/plain": [
       "4000.0"
      ]
     },
     "execution_count": 73,
     "metadata": {},
     "output_type": "execute_result"
    }
   ],
   "source": [
    "filter_freq = 2*1e-6\n",
    "1/(filter_freq * sampling_freq)"
   ]
  },
  {
   "cell_type": "code",
   "execution_count": 74,
   "metadata": {},
   "outputs": [],
   "source": [
    "# df_raw['flow_ma'] = df_raw['flow'].rolling(int(demean_window_seconds * sampling_freq)).mean().fillna(0)\n",
    "# instant_vol = cumulative_trapezoid(y=df_raw['flow'] - df_raw['flow_ma'], x=df_raw['t'], initial=0)\n",
    "df_raw['instant_vol_raw'] = cumulative_trapezoid(y=df_raw['flow'], x=df_raw['t'], initial=0) \n",
    "sos = signal.butter(4, Wn=filter_freq*sampling_freq, btype='highpass', output='sos')\n",
    "flow_filtered = signal.sosfilt(sos, df_raw['flow'])\n",
    "df_raw['instant_vol'] = cumulative_trapezoid(y=flow_filtered, x=df_raw['t'], initial=0) "
   ]
  },
  {
   "cell_type": "code",
   "execution_count": 75,
   "metadata": {},
   "outputs": [
    {
     "data": {
      "text/plain": [
       "-64.86788364850098"
      ]
     },
     "execution_count": 75,
     "metadata": {},
     "output_type": "execute_result"
    }
   ],
   "source": [
    "df_raw.instant_vol.sum()"
   ]
  },
  {
   "cell_type": "code",
   "execution_count": 120,
   "metadata": {},
   "outputs": [],
   "source": [
    "peaks, peakprops  = signal.find_peaks(df_raw['instant_vol'], prominence=0.20)\n",
    "valls, vallprops = signal.find_peaks(-df_raw['instant_vol'], prominence=0.20)\n",
    "# index of first peak that comes after first valley\n",
    "first_peak_idx = np.argmin(peaks > valls[0])\n",
    "# index of last peak that comes before last valley\n",
    "last_peak_idx = np.argwhere(valls[-1] > peaks).max()\n",
    "first_peak_idx, last_peak_idx\n",
    "peaks = peaks[first_peak_idx:last_peak_idx+1]\n",
    "\n",
    "#   p   p   p   n peaks\n",
    "#  / \\_/ \\_/ \\\n",
    "# v   v   v   v n+1 valleys\n",
    "\n",
    "# That makes n complete cycles\n",
    "\n",
    "assert len(peaks) == len(valls) - 1\n",
    "iv = df_raw['instant_vol']\n",
    "vins = iv[peaks].array - iv[valls[:-1]].array\n",
    "vexs = iv[peaks].array - iv[valls[1:]].array"
   ]
  },
  {
   "cell_type": "code",
   "execution_count": 121,
   "metadata": {},
   "outputs": [],
   "source": [
    "pad_cycle_data = len(vins) - len(df_cycles['vol_in'])\n",
    "cyc_vol_in_padded = np.pad(df_cycles['vol_in'].array, (pad_cycle_data, 0))\n",
    "corr = np.correlate(cyc_vol_in_padded, vins, 'full')\n",
    "shift = corr.argmax() - (len(vins) - 1)\n",
    "drop_highres_cycles_front = pad_cycle_data - shift\n",
    "drop_highres_cycles_back = shift \n",
    "vins_trimmed = vins[drop_highres_cycles_front:len(vins) - drop_highres_cycles_back]"
   ]
  },
  {
   "cell_type": "code",
   "execution_count": 128,
   "metadata": {},
   "outputs": [],
   "source": [
    "peaks_trimmed = peaks[drop_highres_cycles_front:len(peaks) - drop_highres_cycles_back]\n",
    "valls_trimmed = valls[drop_highres_cycles_front:len(valls) - drop_highres_cycles_back]\n",
    "peaks_trimmed.shape, vins.shape, vins_trimmed.shape, valls_trimmed.shape\n",
    "df_cycles['highres_t_start'] = df_raw['t'][valls_trimmed[:-1]].values\n",
    "df_cycles['highres_t_max'] = df_raw['t'][peaks_trimmed].values\n",
    "df_cycles['highres_t_end'] = df_raw['t'][valls_trimmed[1:]].values"
   ]
  },
  {
   "cell_type": "code",
   "execution_count": null,
   "metadata": {},
   "outputs": [],
   "source": [
    "px.line(df_cycles, y=['duration', df_cycles['highres_t_end'] - df_cycles['highres_t_start']])"
   ]
  },
  {
   "cell_type": "code",
   "execution_count": null,
   "metadata": {},
   "outputs": [],
   "source": [
    "df_raw.set_index('t')"
   ]
  },
  {
   "cell_type": "code",
   "execution_count": null,
   "metadata": {},
   "outputs": [],
   "source": [
    "df_raw['vol_cycle_start'] = pd.Series(dtype=float)\n",
    "df_raw.loc[df_cycles['highres_t_start'].values, 'vol_cycle_start'] = df_raw.loc[df_cycles['highres_t_start'].values]['instant_vol']\n",
    "fig = px.line(df_raw, y='instant_vol')\n",
    "fig = fig.add_scatter(x=df_raw.index, y=df_raw['vol_cycle_start'], mode='lines+markers')\n",
    "fig.show()"
   ]
  },
  {
   "cell_type": "code",
   "execution_count": null,
   "metadata": {},
   "outputs": [],
   "source": [
    "df_correlated = pd.DataFrame()\n",
    "df_correlated['vol_in_highres'] = vins_trimmed\n",
    "df_correlated['vol_in_cycles'] = df_cycles['vol_in']\n",
    "px.scatter(df_correlated, df_correlated.index, ['vol_in_highres', 'vol_in_cycles'], title='Vol Insp cycles/highres')"
   ]
  },
  {
   "cell_type": "code",
   "execution_count": null,
   "metadata": {},
   "outputs": [],
   "source": [
    "vexs_trimmed = vexs[drop_highres_cycles_front:-drop_highres_cycles_back]\n",
    "cyc_vol_ex = df_cycles['vol_ex']\n",
    "df_correlated['vol_ex_highres'] = vexs_trimmed\n",
    "df_correlated['vol_ex_cycles'] = df_cycles['vol_ex']\n",
    "px.scatter(df_correlated, df_correlated.index, ['vol_ex_highres', 'vol_ex_cycles'], title='Vol Exp cycles/highres')"
   ]
  },
  {
   "cell_type": "code",
   "execution_count": null,
   "metadata": {},
   "outputs": [],
   "source": [
    "px.line(df_raw, x='t', y=['instant_vol_raw', 'instant_vol', 'flow'])\n",
    "# px.scatter(df_raw, x='t', y=peaks)\n",
    "# px.line(df_raw, x='t', y=['flow', 'flow_ma', 'filtered', 'instant_vol'])"
   ]
  }
 ],
 "metadata": {
  "kernelspec": {
   "display_name": ".venv",
   "language": "python",
   "name": "python3"
  },
  "language_info": {
   "codemirror_mode": {
    "name": "ipython",
    "version": 3
   },
   "file_extension": ".py",
   "mimetype": "text/x-python",
   "name": "python",
   "nbconvert_exporter": "python",
   "pygments_lexer": "ipython3",
   "version": "3.12.3"
  }
 },
 "nbformat": 4,
 "nbformat_minor": 2
}
