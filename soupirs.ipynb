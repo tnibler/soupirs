{
 "cells": [
  {
   "cell_type": "code",
   "execution_count": 1,
   "metadata": {},
   "outputs": [],
   "source": [
    "import numpy as np\n",
    "from scipy.integrate import cumulative_trapezoid\n",
    "from scipy.signal import find_peaks\n",
    "from scipy import signal\n",
    "import plotly.express as px\n",
    "import pandas as pd\n",
    "import matplotlib.pyplot as plt\n",
    "from pathlib import Path"
   ]
  },
  {
   "cell_type": "code",
   "execution_count": 2,
   "metadata": {},
   "outputs": [],
   "source": [
    "import plotly.io as pio\n",
    "pio.renderers.default = 'notebook_connected'"
   ]
  },
  {
   "cell_type": "code",
   "execution_count": 43,
   "metadata": {},
   "outputs": [],
   "source": [
    "# Todo update this logic for files with name as prefix\n",
    "data_dir = Path('./data/CPET hosp')\n",
    "# data_dir = Path('./data/CPET ambu anonyme')\n",
    "files = []\n",
    "for xls in data_dir.glob('*.xlsx'):\n",
    "    prefix = xls.name.split('_')[0]\n",
    "    log_match = list(data_dir.glob(f'{prefix}*raw.log'))\n",
    "    if len(log_match) == 0:\n",
    "        print(f'No matching raw log for Excel file {xls}')\n",
    "    elif len(log_match) > 1:\n",
    "        print(f'More then 1 matching raw log for Excel file {xls}?')\n",
    "    else:\n",
    "        files.append((xls, log_match[0]))"
   ]
  },
  {
   "cell_type": "code",
   "execution_count": 44,
   "metadata": {},
   "outputs": [],
   "source": [
    "xls, raw_log = files[5]\n",
    "\n",
    "df_cycles = pd.read_excel(xls)\n",
    "assert df_cycles['Unnamed: 0'][1] == 'Unité'\n",
    "assert df_cycles['Unnamed: 0'][2] == 'Théor.'\n",
    "# df_cycles = df_cycles.drop('Unnamed: 0', axis=1)\n",
    "df_cycles = df_cycles.drop('Temps', axis=1)\n",
    "df_cycles = df_cycles.drop([0, 1, 2])\n",
    "keep_columns = {'Unnamed: 0', 'Vol.Cour.', 'VIn', 'tIn', 'VEx', 'tEx', 'ttot'}\n",
    "df_cycles = df_cycles.drop([col for col in df_cycles.columns if col not in keep_columns], axis=1)\n",
    "df_cycles = df_cycles.rename(columns={\n",
    "    'Unnamed: 0': 'phase',\n",
    "    'Vol.Cour.': 'vol_instant',\n",
    "    'VIn': 'vol_in',\n",
    "    'VEx': 'vol_ex',\n",
    "    'tIn': 't_in',\n",
    "    'tEx': 't_ex',\n",
    "    'ttot': 'duration'\n",
    "})\n",
    "df_cycles['phase'] = df_cycles['phase'].replace('Repos', 'rest')\n",
    "df_cycles['phase'] = df_cycles['phase'].replace('Charge', 'load')\n",
    "df_cycles['phase'] = df_cycles['phase'].replace('Récupération', 'recovery')\n",
    "df_cycles['phase'] = df_cycles['phase'].ffill()\n",
    "df_cycles = df_cycles.reset_index(drop=True)"
   ]
  },
  {
   "cell_type": "code",
   "execution_count": 45,
   "metadata": {},
   "outputs": [
    {
     "data": {
      "text/html": [
       "<div>\n",
       "<style scoped>\n",
       "    .dataframe tbody tr th:only-of-type {\n",
       "        vertical-align: middle;\n",
       "    }\n",
       "\n",
       "    .dataframe tbody tr th {\n",
       "        vertical-align: top;\n",
       "    }\n",
       "\n",
       "    .dataframe thead th {\n",
       "        text-align: right;\n",
       "    }\n",
       "</style>\n",
       "<table border=\"1\" class=\"dataframe\">\n",
       "  <thead>\n",
       "    <tr style=\"text-align: right;\">\n",
       "      <th></th>\n",
       "      <th>phase</th>\n",
       "      <th>vol_instant</th>\n",
       "      <th>vol_in</th>\n",
       "      <th>t_in</th>\n",
       "      <th>vol_ex</th>\n",
       "      <th>t_ex</th>\n",
       "      <th>duration</th>\n",
       "    </tr>\n",
       "  </thead>\n",
       "  <tbody>\n",
       "    <tr>\n",
       "      <th>0</th>\n",
       "      <td>rest</td>\n",
       "      <td>0.37</td>\n",
       "      <td>0.36</td>\n",
       "      <td>0.7</td>\n",
       "      <td>0.38</td>\n",
       "      <td>1</td>\n",
       "      <td>1.8</td>\n",
       "    </tr>\n",
       "    <tr>\n",
       "      <th>1</th>\n",
       "      <td>rest</td>\n",
       "      <td>0.36</td>\n",
       "      <td>0.36</td>\n",
       "      <td>0.7</td>\n",
       "      <td>0.37</td>\n",
       "      <td>1</td>\n",
       "      <td>1.7</td>\n",
       "    </tr>\n",
       "    <tr>\n",
       "      <th>2</th>\n",
       "      <td>rest</td>\n",
       "      <td>0.34</td>\n",
       "      <td>0.34</td>\n",
       "      <td>0.7</td>\n",
       "      <td>0.33</td>\n",
       "      <td>0.9</td>\n",
       "      <td>1.6</td>\n",
       "    </tr>\n",
       "    <tr>\n",
       "      <th>3</th>\n",
       "      <td>rest</td>\n",
       "      <td>0.34</td>\n",
       "      <td>0.31</td>\n",
       "      <td>0.7</td>\n",
       "      <td>0.36</td>\n",
       "      <td>1.1</td>\n",
       "      <td>1.8</td>\n",
       "    </tr>\n",
       "    <tr>\n",
       "      <th>4</th>\n",
       "      <td>rest</td>\n",
       "      <td>0.38</td>\n",
       "      <td>0.36</td>\n",
       "      <td>0.8</td>\n",
       "      <td>0.4</td>\n",
       "      <td>1.4</td>\n",
       "      <td>2.1</td>\n",
       "    </tr>\n",
       "    <tr>\n",
       "      <th>...</th>\n",
       "      <td>...</td>\n",
       "      <td>...</td>\n",
       "      <td>...</td>\n",
       "      <td>...</td>\n",
       "      <td>...</td>\n",
       "      <td>...</td>\n",
       "      <td>...</td>\n",
       "    </tr>\n",
       "    <tr>\n",
       "      <th>792</th>\n",
       "      <td>recovery</td>\n",
       "      <td>-</td>\n",
       "      <td>-</td>\n",
       "      <td>-</td>\n",
       "      <td>-</td>\n",
       "      <td>-</td>\n",
       "      <td>-</td>\n",
       "    </tr>\n",
       "    <tr>\n",
       "      <th>793</th>\n",
       "      <td>recovery</td>\n",
       "      <td>-</td>\n",
       "      <td>-</td>\n",
       "      <td>-</td>\n",
       "      <td>-</td>\n",
       "      <td>-</td>\n",
       "      <td>-</td>\n",
       "    </tr>\n",
       "    <tr>\n",
       "      <th>794</th>\n",
       "      <td>recovery</td>\n",
       "      <td>-</td>\n",
       "      <td>-</td>\n",
       "      <td>-</td>\n",
       "      <td>-</td>\n",
       "      <td>-</td>\n",
       "      <td>-</td>\n",
       "    </tr>\n",
       "    <tr>\n",
       "      <th>795</th>\n",
       "      <td>recovery</td>\n",
       "      <td>-</td>\n",
       "      <td>-</td>\n",
       "      <td>-</td>\n",
       "      <td>-</td>\n",
       "      <td>-</td>\n",
       "      <td>-</td>\n",
       "    </tr>\n",
       "    <tr>\n",
       "      <th>796</th>\n",
       "      <td>recovery</td>\n",
       "      <td>-</td>\n",
       "      <td>-</td>\n",
       "      <td>-</td>\n",
       "      <td>-</td>\n",
       "      <td>-</td>\n",
       "      <td>-</td>\n",
       "    </tr>\n",
       "  </tbody>\n",
       "</table>\n",
       "<p>797 rows × 7 columns</p>\n",
       "</div>"
      ],
      "text/plain": [
       "        phase vol_instant vol_in t_in vol_ex t_ex duration\n",
       "0        rest        0.37   0.36  0.7   0.38    1      1.8\n",
       "1        rest        0.36   0.36  0.7   0.37    1      1.7\n",
       "2        rest        0.34   0.34  0.7   0.33  0.9      1.6\n",
       "3        rest        0.34   0.31  0.7   0.36  1.1      1.8\n",
       "4        rest        0.38   0.36  0.8    0.4  1.4      2.1\n",
       "..        ...         ...    ...  ...    ...  ...      ...\n",
       "792  recovery           -      -    -      -    -        -\n",
       "793  recovery           -      -    -      -    -        -\n",
       "794  recovery           -      -    -      -    -        -\n",
       "795  recovery           -      -    -      -    -        -\n",
       "796  recovery           -      -    -      -    -        -\n",
       "\n",
       "[797 rows x 7 columns]"
      ]
     },
     "execution_count": 45,
     "metadata": {},
     "output_type": "execute_result"
    }
   ],
   "source": [
    "df_cycles"
   ]
  },
  {
   "cell_type": "code",
   "execution_count": 46,
   "metadata": {},
   "outputs": [
    {
     "data": {
      "text/html": [
       "<div>\n",
       "<style scoped>\n",
       "    .dataframe tbody tr th:only-of-type {\n",
       "        vertical-align: middle;\n",
       "    }\n",
       "\n",
       "    .dataframe tbody tr th {\n",
       "        vertical-align: top;\n",
       "    }\n",
       "\n",
       "    .dataframe thead th {\n",
       "        text-align: right;\n",
       "    }\n",
       "</style>\n",
       "<table border=\"1\" class=\"dataframe\">\n",
       "  <thead>\n",
       "    <tr style=\"text-align: right;\">\n",
       "      <th></th>\n",
       "      <th>t</th>\n",
       "      <th>flow</th>\n",
       "      <th>fo2</th>\n",
       "      <th>fco2</th>\n",
       "    </tr>\n",
       "  </thead>\n",
       "  <tbody>\n",
       "    <tr>\n",
       "      <th>0</th>\n",
       "      <td>0.000</td>\n",
       "      <td>0.0</td>\n",
       "      <td>20.90972</td>\n",
       "      <td>0.001764</td>\n",
       "    </tr>\n",
       "    <tr>\n",
       "      <th>1</th>\n",
       "      <td>0.008</td>\n",
       "      <td>0.0</td>\n",
       "      <td>20.98204</td>\n",
       "      <td>0.002383</td>\n",
       "    </tr>\n",
       "    <tr>\n",
       "      <th>2</th>\n",
       "      <td>0.016</td>\n",
       "      <td>0.0</td>\n",
       "      <td>21.00116</td>\n",
       "      <td>0.002405</td>\n",
       "    </tr>\n",
       "    <tr>\n",
       "      <th>3</th>\n",
       "      <td>0.024</td>\n",
       "      <td>0.0</td>\n",
       "      <td>20.94472</td>\n",
       "      <td>0.001773</td>\n",
       "    </tr>\n",
       "    <tr>\n",
       "      <th>4</th>\n",
       "      <td>0.032</td>\n",
       "      <td>0.0</td>\n",
       "      <td>20.86901</td>\n",
       "      <td>0.000987</td>\n",
       "    </tr>\n",
       "    <tr>\n",
       "      <th>...</th>\n",
       "      <td>...</td>\n",
       "      <td>...</td>\n",
       "      <td>...</td>\n",
       "      <td>...</td>\n",
       "    </tr>\n",
       "    <tr>\n",
       "      <th>200044</th>\n",
       "      <td>1600.352</td>\n",
       "      <td>0.0</td>\n",
       "      <td>20.73049</td>\n",
       "      <td>0.000000</td>\n",
       "    </tr>\n",
       "    <tr>\n",
       "      <th>200045</th>\n",
       "      <td>1600.360</td>\n",
       "      <td>0.0</td>\n",
       "      <td>20.73826</td>\n",
       "      <td>0.000000</td>\n",
       "    </tr>\n",
       "    <tr>\n",
       "      <th>200046</th>\n",
       "      <td>1600.368</td>\n",
       "      <td>0.0</td>\n",
       "      <td>20.72032</td>\n",
       "      <td>0.000000</td>\n",
       "    </tr>\n",
       "    <tr>\n",
       "      <th>200047</th>\n",
       "      <td>1600.376</td>\n",
       "      <td>0.0</td>\n",
       "      <td>20.69039</td>\n",
       "      <td>0.000000</td>\n",
       "    </tr>\n",
       "    <tr>\n",
       "      <th>200048</th>\n",
       "      <td>1600.384</td>\n",
       "      <td>0.0</td>\n",
       "      <td>20.69231</td>\n",
       "      <td>0.000000</td>\n",
       "    </tr>\n",
       "  </tbody>\n",
       "</table>\n",
       "<p>200049 rows × 4 columns</p>\n",
       "</div>"
      ],
      "text/plain": [
       "               t  flow       fo2      fco2\n",
       "0          0.000   0.0  20.90972  0.001764\n",
       "1          0.008   0.0  20.98204  0.002383\n",
       "2          0.016   0.0  21.00116  0.002405\n",
       "3          0.024   0.0  20.94472  0.001773\n",
       "4          0.032   0.0  20.86901  0.000987\n",
       "...          ...   ...       ...       ...\n",
       "200044  1600.352   0.0  20.73049  0.000000\n",
       "200045  1600.360   0.0  20.73826  0.000000\n",
       "200046  1600.368   0.0  20.72032  0.000000\n",
       "200047  1600.376   0.0  20.69039  0.000000\n",
       "200048  1600.384   0.0  20.69231  0.000000\n",
       "\n",
       "[200049 rows x 4 columns]"
      ]
     },
     "execution_count": 46,
     "metadata": {},
     "output_type": "execute_result"
    }
   ],
   "source": [
    "df_raw = pd.read_csv(raw_log, delimiter='\\t', names=['t', 'flow', 'fo2', 'fco2'])\n",
    "df_raw"
   ]
  },
  {
   "cell_type": "code",
   "execution_count": 123,
   "metadata": {},
   "outputs": [],
   "source": [
    "sampling_freq = 1 / (df_raw['t'][:-1] - df_raw['t'].shift(1)[1:]).mean()\n",
    "demean_window_seconds = 20"
   ]
  },
  {
   "cell_type": "code",
   "execution_count": 124,
   "metadata": {},
   "outputs": [
    {
     "data": {
      "text/plain": [
       "2500.0"
      ]
     },
     "execution_count": 124,
     "metadata": {},
     "output_type": "execute_result"
    }
   ],
   "source": [
    "demean_window_seconds * sampling_freq"
   ]
  },
  {
   "cell_type": "code",
   "execution_count": 244,
   "metadata": {},
   "outputs": [
    {
     "data": {
      "text/plain": [
       "4000.0"
      ]
     },
     "execution_count": 244,
     "metadata": {},
     "output_type": "execute_result"
    }
   ],
   "source": [
    "filter_freq = 2*1e-6\n",
    "1/(filter_freq * sampling_freq)"
   ]
  },
  {
   "cell_type": "code",
   "execution_count": 245,
   "metadata": {},
   "outputs": [],
   "source": [
    "# df_raw['flow_ma'] = df_raw['flow'].rolling(int(demean_window_seconds * sampling_freq)).mean().fillna(0)\n",
    "# instant_vol = cumulative_trapezoid(y=df_raw['flow'] - df_raw['flow_ma'], x=df_raw['t'], initial=0)\n",
    "df_raw['instant_vol_raw'] = cumulative_trapezoid(y=df_raw['flow'], x=df_raw['t'], initial=0) \n",
    "sos = signal.butter(4, Wn=filter_freq*sampling_freq, btype='highpass', output='sos')\n",
    "flow_filtered = signal.sosfilt(sos, df_raw['flow'])\n",
    "df_raw['instant_vol'] = cumulative_trapezoid(y=flow_filtered, x=df_raw['t'], initial=0) "
   ]
  },
  {
   "cell_type": "code",
   "execution_count": 246,
   "metadata": {},
   "outputs": [
    {
     "data": {
      "text/plain": [
       "-64.86788364850098"
      ]
     },
     "execution_count": 246,
     "metadata": {},
     "output_type": "execute_result"
    }
   ],
   "source": [
    "df_raw.instant_vol.sum()"
   ]
  },
  {
   "cell_type": "code",
   "execution_count": null,
   "metadata": {},
   "outputs": [],
   "source": [
    "px.line(df_raw, x='t', y=['instant_vol_raw', 'instant_vol'])\n",
    "# px.line(df_raw, x='t', y=['flow', 'flow_ma', 'filtered', 'instant_vol'])"
   ]
  }
 ],
 "metadata": {
  "kernelspec": {
   "display_name": ".venv",
   "language": "python",
   "name": "python3"
  },
  "language_info": {
   "codemirror_mode": {
    "name": "ipython",
    "version": 3
   },
   "file_extension": ".py",
   "mimetype": "text/x-python",
   "name": "python",
   "nbconvert_exporter": "python",
   "pygments_lexer": "ipython3",
   "version": "3.12.3"
  }
 },
 "nbformat": 4,
 "nbformat_minor": 2
}
